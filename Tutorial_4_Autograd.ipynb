{
 "cells": [
  {
   "cell_type": "markdown",
   "metadata": {},
   "source": [
    "### Automatic Differentiation with <i>torch.autograd</i>."
   ]
  },
  {
   "cell_type": "markdown",
   "metadata": {},
   "source": [
    "When training neural networks, the most frequently used algorithm is <b>back propagation</b>. In this algorithm, parameters (model weights) are adjusted according to the <b>gradient</b> of the loss function with respect to the given parameter. \n",
    "\n",
    "To compute those gradients, PyTorch has a built-in differentiation engine called <i>torch.autograd</i>. It supports automatic computation of gradient of any computational graph.\n",
    "\n",
    "Consider the simplest one-layer neural network, with input x, parameters w, and b, and some loss function. It can be defined in PyTorch in the following manner:"
   ]
  },
  {
   "cell_type": "code",
   "execution_count": 6,
   "metadata": {},
   "outputs": [],
   "source": [
    "import torch\n",
    "import torch.nn.functional as F\n",
    "\n",
    "torch.set_printoptions(sci_mode=False, linewidth=300)\n",
    "\n",
    "x = torch.ones(5) # input tensor\n",
    "y = torch.zeros(3) # expected output\n",
    "\n",
    "w = torch.randn(5, 3, require_grad=True)\n",
    "b = torch.randn(3, require_grad=True)\n",
    "\n",
    "z = torch.matmul(x, w) + b\n",
    "loss = F.binary_cross_entropy_with_logits(x, y)"
   ]
  },
  {
   "cell_type": "markdown",
   "metadata": {},
   "source": [
    "### Tensors, Functions, and Computational graph\n",
    "\n",
    "This code defines the following <b>computational graph</b>"
   ]
  },
  {
   "cell_type": "markdown",
   "metadata": {},
   "source": [
    "In this network, w and b are <b>parameters</b>, which we need to optimize. Thus, we need to be able to compute the gradients of loss function with respect to those variables. In order to do that, we set the <i>requires_grad</i> property of those tensors."
   ]
  },
  {
   "cell_type": "markdown",
   "metadata": {},
   "source": [
    "A function that we apply to tensors to construct computational graph is in fact an object of class <i>Function</i>. This object knows how to compute the funtion in the forward direction, and also how to compute its derivative during the backward propogation step. A reference to the backward propogation function is stored in <i>grad_fn</i> property of a tensor."
   ]
  },
  {
   "cell_type": "code",
   "execution_count": null,
   "metadata": {},
   "outputs": [],
   "source": [
    "print(f\"Gradient function for z = {z.grad_fn}\")\n",
    "print(f\"Gradient function for loss = {loss.grad_fn}\")"
   ]
  },
  {
   "cell_type": "markdown",
   "metadata": {},
   "source": [
    "### Computing Gradients\n",
    "\n",
    "To optimize weights of parameters in the neural network, we need to compute the derivatives of our loss function with respect to parameters, namely, we need <i>dloss/dw</i> and <i>dloss/db</i>under some fixed values of x and y. To compute those derivatives, we call <i>loss.backward()</i>, and then retrieve the values from <i>w.grad</i> and <i>b.grad</i>"
   ]
  },
  {
   "cell_type": "code",
   "execution_count": null,
   "metadata": {},
   "outputs": [],
   "source": [
    "loss.backward()\n",
    "print(w.grad)\n",
    "print(b.grad)"
   ]
  },
  {
   "cell_type": "markdown",
   "metadata": {},
   "source": [
    "We can only obtain the <i>grad</i> properties for <b>leaf nodes</b> of the computational graph, which have <i>requires_grad</i> property set to <b>True</b>. For all other nodes in our graph, gradients will not be available.\n",
    "\n",
    "Leaf nodes are typically tensors created by the user, such as the weights in a neural network. They are not derived from other nodes in the computational graph."
   ]
  },
  {
   "cell_type": "code",
   "execution_count": null,
   "metadata": {},
   "outputs": [],
   "source": [
    "print(z.grad) # z is NOT a leaf node because it is created by a tensor operation on other tensors."
   ]
  },
  {
   "cell_type": "markdown",
   "metadata": {},
   "source": [
    "We can only perform gradient calculations using <i>backward</i> once on a given graph, for performance reasons. if we need to do several <i>backward</i> calls on the same graph, we need to pass <i>retain_graph=True</i> to the <i>backward</i> call.\n",
    "\n",
    "That's because the computational graph is destructed after you call <i>backward</i>, unless you request to \"retain\" it."
   ]
  },
  {
   "cell_type": "markdown",
   "metadata": {},
   "source": [
    "### Disabling Gradient Tracking\n",
    "\n",
    "By default, all tensors with <i>requires_grad=True</i> are tracking their computational history and support gradient computation. However, there are some cases when we do not need to do that, for example, when we have trained the model and just want to apply it to some input data, i.e. we only want to do <i>forward</i> computations through the network.\n",
    "\n",
    "We can stop tracking computations by surrounding our computation code with <i><b>torch.no_grad()</i></b>"
   ]
  },
  {
   "cell_type": "code",
   "execution_count": null,
   "metadata": {},
   "outputs": [],
   "source": [
    "z = torch.matmul(x, w) + b\n",
    "print(z.requires_grad)\n",
    "\n",
    "with torch.no_grad():\n",
    "    z = torch.matmul(x, w) + b\n",
    "print(z.requires_grad)"
   ]
  },
  {
   "cell_type": "markdown",
   "metadata": {},
   "source": [
    "Another way to achieve the same result is to use the <i><b>detach</i></b> method on the tensor."
   ]
  },
  {
   "cell_type": "code",
   "execution_count": null,
   "metadata": {},
   "outputs": [],
   "source": [
    "# Redefine w and b\n",
    "w = torch.randn(5, 3, requires_grad=True)\n",
    "b = torch.randn(3, requires_grad=True)\n",
    "\n",
    "z = torch.matmul(x, w) + b\n",
    "z_det = z.detach()\n",
    "print(z_det.requires_grad)\n",
    "\n"
   ]
  },
  {
   "cell_type": "markdown",
   "metadata": {},
   "source": [
    "A \"detached\" tensor doesn't know the history of how it was created. Even though in this case it is obvious to us that <i><b>z_det</i></b> holds the result of <i><b>torch.matml(x, w) + b, z_det</i></b>  would think itself as a fresh new tensor filled with some values.\n",
    "\n",
    "Therefore, any attempt of <i>backward</i> through <i>z_det</i> will NOT update the <i>.grad</i> attribute of w or b."
   ]
  },
  {
   "cell_type": "code",
   "execution_count": null,
   "metadata": {},
   "outputs": [],
   "source": [
    "z_det.requires_grad(True) # Need ot turn on the gradient calculation for a z_det\n",
    "loss = F.binary_cross_entropy_with_logits(z_det, y)\n",
    "loss.backward()"
   ]
  },
  {
   "cell_type": "code",
   "execution_count": null,
   "metadata": {},
   "outputs": [],
   "source": [
    "print(w.grad)\n",
    "print(b.grad)"
   ]
  },
  {
   "cell_type": "markdown",
   "metadata": {},
   "source": [
    "There are reasons you might want to disable gradient tracking:\n",
    "- To mark some parameters in your neural network as <b>frozen parameters</b>. This is a very common scenario for finetuning a pretrained network.\n",
    "- To <b>speed up computations</b> when you are only doing forward pass, because computations on tensors that do not track gradients would be more efficient."
   ]
  }
 ],
 "metadata": {
  "kernelspec": {
   "display_name": "Python 3.11.3 64-bit",
   "language": "python",
   "name": "python3"
  },
  "language_info": {
   "codemirror_mode": {
    "name": "ipython",
    "version": 3
   },
   "file_extension": ".py",
   "mimetype": "text/x-python",
   "name": "python",
   "nbconvert_exporter": "python",
   "pygments_lexer": "ipython3",
   "version": "3.11.3"
  },
  "orig_nbformat": 4,
  "vscode": {
   "interpreter": {
    "hash": "c261aea317cc0286b3b3261fbba9abdec21eaa57589985bb7a274bf54d6cc0a7"
   }
  }
 },
 "nbformat": 4,
 "nbformat_minor": 2
}
